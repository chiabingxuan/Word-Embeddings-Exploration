{
 "cells": [
  {
   "cell_type": "markdown",
   "id": "4c1322c6",
   "metadata": {},
   "source": [
    "## Imports"
   ]
  },
  {
   "cell_type": "code",
   "execution_count": 1,
   "id": "d40c8154",
   "metadata": {},
   "outputs": [],
   "source": [
    "import matplotlib.pyplot as plt\n",
    "import numpy as np\n",
    "import os\n",
    "import pickle\n",
    "import pyreadr\n",
    "import seaborn as sns\n",
    "from sklearn.base import ClassifierMixin\n",
    "from sklearn.ensemble import RandomForestClassifier\n",
    "from sklearn.metrics import accuracy_score, confusion_matrix, f1_score, precision_score, recall_score\n",
    "from sklearn.svm import SVC\n",
    "from xgboost import XGBClassifier"
   ]
  },
  {
   "cell_type": "markdown",
   "id": "08b249f2",
   "metadata": {},
   "source": [
    "## Setup"
   ]
  },
  {
   "cell_type": "code",
   "execution_count": 2,
   "id": "9f81f1b0",
   "metadata": {},
   "outputs": [],
   "source": [
    "# Set seed for reproducibility\n",
    "seed = 42\n",
    "\n",
    "# Create folders\n",
    "os.makedirs(os.path.normpath(os.path.join(\"..\", \"sentiment_analysis_outputs\")), exist_ok=True)\n",
    "os.makedirs(os.path.normpath(os.path.join(\"..\", \"sentiment_analysis_eval_results\")), exist_ok=True)"
   ]
  },
  {
   "cell_type": "markdown",
   "id": "fab661b1",
   "metadata": {},
   "source": [
    "## Helpers"
   ]
  },
  {
   "cell_type": "code",
   "execution_count": 3,
   "id": "17783181",
   "metadata": {},
   "outputs": [],
   "source": [
    "def make_embeddings(words_to_embeddings_mapping: dict[str, np.ndarray], reviews: list[list[str]]) -> np.ndarray:\n",
    "    # Initialise final feature array\n",
    "    num_reviews = len(reviews)\n",
    "    vector_size = len(list(words_to_embeddings_mapping.values())[0])\n",
    "    feature_vectors = np.zeros((num_reviews, vector_size))\n",
    "\n",
    "    for i, review in enumerate(reviews):\n",
    "        aggregated_feature_vector = np.zeros(vector_size)\n",
    "        num_words_in_aggregation = 0\n",
    "\n",
    "        for word in review:\n",
    "            # We only aggregate for those words that exist in the vocab\n",
    "            if word in words_to_embeddings_mapping:\n",
    "                # Add the word embedding\n",
    "                word_embedding = words_to_embeddings_mapping[word]\n",
    "                aggregated_feature_vector += word_embedding\n",
    "                num_words_in_aggregation += 1\n",
    "\n",
    "        # To aggregate, we average the word embeddings\n",
    "        # If no words added to aggregation, just take the aggregation to be a zero vector\n",
    "        if num_words_in_aggregation != 0:\n",
    "            aggregated_feature_vector /= num_words_in_aggregation\n",
    "\n",
    "        feature_vectors[i] = aggregated_feature_vector\n",
    "\n",
    "    return feature_vectors"
   ]
  },
  {
   "cell_type": "code",
   "execution_count": 4,
   "id": "8e1999a5",
   "metadata": {},
   "outputs": [],
   "source": [
    "def display_and_save_cm(cm: np.ndarray, filename: str) -> None:\n",
    "    # Make heat map of confusion matrix\n",
    "    plt.figure(figsize=(8, 6))\n",
    "    sns.set_theme(font_scale=0.8)\n",
    "    sns.heatmap(cm, annot=True, fmt=\"d\", cmap=\"Blues\")\n",
    "\n",
    "    # Save this heat map\n",
    "    cm_file_path = os.path.join(os.path.normpath(os.path.join(\"..\", \"sentiment_analysis_eval_results\")), f\"{filename}_cm.png\")\n",
    "    plt.savefig(cm_file_path, bbox_inches=\"tight\")\n",
    "\n",
    "    # Display heat map\n",
    "    print(\"Confusion Matrix:\")\n",
    "    plt.show()\n",
    "\n",
    "\n",
    "def train_and_eval_classifier(model: ClassifierMixin, X_train: np.ndarray, y_train: np.ndarray, X_test: np.ndarray, y_test: np.ndarray, filename: str) -> ClassifierMixin:\n",
    "    # Train the model\n",
    "    model.fit(X_train, y_train)\n",
    "\n",
    "    # Predict on test set\n",
    "    y_preds = model.predict(X_test)\n",
    "\n",
    "    # Calculate evaluation metrics\n",
    "    acc = accuracy_score(y_test, y_preds)\n",
    "    precision = precision_score(y_test, y_preds, pos_label=1)\n",
    "    recall = recall_score(y_test, y_preds, pos_label=1)\n",
    "    f1 = f1_score(y_test, y_preds, pos_label=1)\n",
    "    cm = confusion_matrix(y_test, y_preds)\n",
    "\n",
    "    # Print evaluation metrics\n",
    "    print(f\"Accuracy: {round(acc * 100, 1)}%\")\n",
    "    print(f\"Precision: {round(precision * 100, 1)}%\")\n",
    "    print(f\"Recall: {round(recall * 100, 1)}%\")\n",
    "    print(f\"F1 score: {round(f1 * 100, 1)}%\")\n",
    "\n",
    "    # Display and save confusion matrix\n",
    "    display_and_save_cm(cm=cm, filename=filename)\n",
    "    \n",
    "    # Save fitted model\n",
    "    with open(os.path.normpath(os.path.join(\"..\", \"sentiment_analysis_outputs\", f\"{filename}_model.pkl\")), \"wb\") as f:\n",
    "        pickle.dump(model, f)\n",
    "\n",
    "    return model"
   ]
  },
  {
   "cell_type": "markdown",
   "id": "2165fe38",
   "metadata": {},
   "source": [
    "## Load Models / Embeddings"
   ]
  },
  {
   "cell_type": "code",
   "execution_count": 5,
   "id": "85cf22fc",
   "metadata": {},
   "outputs": [],
   "source": [
    "# Word2Vec (no hyperparameter tuning)\n",
    "with open(os.path.normpath(os.path.join(\"..\", \"embedding_outputs\", \"word2vec_model.pkl\")), \"rb\") as f:\n",
    "  word2vec_model = pickle.load(f)\n",
    "\n",
    "word2vec_embeddings = word2vec_model.wv\n",
    "\n",
    "# Get mapping of words to vector embeddings\n",
    "word2vec_words_to_embeddings = {word: word2vec_embeddings[word] for word in word2vec_embeddings.key_to_index}\n"
   ]
  },
  {
   "cell_type": "code",
   "execution_count": 6,
   "id": "3159bdf9",
   "metadata": {},
   "outputs": [],
   "source": [
    "# SPPMI-SVD (with hyperparameter tuning)\n",
    "with open(os.path.normpath(os.path.join(\"..\", \"embedding_outputs\", \"sppmi_svd_embeddings_ht.pkl\")), \"rb\") as f:\n",
    "  sppmi_svd_embeddings = pickle.load(f)\n",
    "\n",
    "with open(os.path.normpath(os.path.join(\"..\", \"embedding_outputs\", \"sppmi_svd_embeddings_mapping_ht.pkl\")), \"rb\") as f:\n",
    "  sppmi_svd_embeddings_mapping = pickle.load(f)\n",
    "\n",
    "# Get mapping of words to vector embeddings\n",
    "sppmi_svd_words_to_embeddings = {word: sppmi_svd_embeddings[id] for word, id in sppmi_svd_embeddings_mapping.items()}"
   ]
  },
  {
   "cell_type": "code",
   "execution_count": 7,
   "id": "a5b5ec76",
   "metadata": {},
   "outputs": [],
   "source": [
    "# GloVe (with hyperparameter tuning)\n",
    "glove_embeddings_df = pyreadr.read_r(os.path.normpath(os.path.join(\"..\", \"embedding_outputs\", \"glove_embeddings_ht.rds\")))[None]\n",
    "\n",
    "# Get mapping of words to vector embeddings\n",
    "glove_words_to_embeddings = {word: np.array(glove_embeddings_df.loc[word]) for word in glove_embeddings_df.index.tolist()}"
   ]
  },
  {
   "cell_type": "markdown",
   "id": "c2239af9",
   "metadata": {},
   "source": [
    "## Load Data"
   ]
  },
  {
   "cell_type": "code",
   "execution_count": 8,
   "id": "51b5c87c",
   "metadata": {},
   "outputs": [],
   "source": [
    "with open(os.path.normpath(os.path.join(\"..\", \"data\", \"reviews_train.pkl\")), \"rb\") as f:\n",
    "  reviews_train = pickle.load(f)\n",
    "\n",
    "with open(os.path.normpath(os.path.join(\"..\", \"data\", \"reviews_test.pkl\")), \"rb\") as f:\n",
    "  reviews_test = pickle.load(f)\n",
    "\n",
    "with open(os.path.normpath(os.path.join(\"..\", \"data\", \"labels_train.pkl\")), \"rb\") as f:\n",
    "  labels_train = pickle.load(f)\n",
    "\n",
    "with open(os.path.normpath(os.path.join(\"..\", \"data\", \"labels_test.pkl\")), \"rb\") as f:\n",
    "  labels_test = pickle.load(f)"
   ]
  },
  {
   "cell_type": "markdown",
   "id": "64e43cf6",
   "metadata": {},
   "source": [
    "## Skip-Gram (Word2Vec)"
   ]
  },
  {
   "cell_type": "markdown",
   "id": "0f808f51",
   "metadata": {},
   "source": [
    "### Get Embeddings"
   ]
  },
  {
   "cell_type": "code",
   "execution_count": 9,
   "id": "40d8ed93",
   "metadata": {},
   "outputs": [],
   "source": [
    "# Get features\n",
    "word2vec_embeddings_train = make_embeddings(words_to_embeddings_mapping=word2vec_words_to_embeddings, reviews=reviews_train)\n",
    "word2vec_embeddings_test = make_embeddings(words_to_embeddings_mapping=word2vec_words_to_embeddings, reviews=reviews_test)"
   ]
  },
  {
   "cell_type": "markdown",
   "id": "b831e02d",
   "metadata": {},
   "source": [
    "### Random Forest"
   ]
  },
  {
   "cell_type": "code",
   "execution_count": 10,
   "id": "2daa8ec3",
   "metadata": {},
   "outputs": [
    {
     "name": "stdout",
     "output_type": "stream",
     "text": [
      "Accuracy: 73.0%\n",
      "Precision: 76.6%\n",
      "Recall: 66.7%\n",
      "F1 score: 71.3%\n",
      "Confusion Matrix:\n"
     ]
    },
    {
     "data": {
      "image/png": "[encoded data removed]",
      "text/plain": [
       "<Figure size 800x600 with 2 Axes>"
      ]
     },
     "metadata": {},
     "output_type": "display_data"
    }
   ],
   "source": [
    "# Initialise model\n",
    "word2vec_rf = RandomForestClassifier(random_state=seed)\n",
    "\n",
    "# Train and evaluate\n",
    "word2vec_rf_fitted = train_and_eval_classifier(model=word2vec_rf, X_train=word2vec_embeddings_train, y_train=labels_train, X_test=word2vec_embeddings_test, y_test=labels_test, filename=\"word2vec_rf\")"
   ]
  },
  {
   "cell_type": "markdown",
   "id": "de6b9906",
   "metadata": {},
   "source": [
    "### Support Vector Machine"
   ]
  },
  {
   "cell_type": "code",
   "execution_count": 11,
   "id": "09fd29d5",
   "metadata": {},
   "outputs": [
    {
     "name": "stdout",
     "output_type": "stream",
     "text": [
      "Accuracy: 77.5%\n",
      "Precision: 83.2%\n",
      "Recall: 69.2%\n",
      "F1 score: 75.5%\n",
      "Confusion Matrix:\n"
     ]
    },
    {
     "data": {
      "image/png": "[encoded data removed]",
      "text/plain": [
       "<Figure size 800x600 with 2 Axes>"
      ]
     },
     "metadata": {},
     "output_type": "display_data"
    }
   ],
   "source": [
    "# Initialise model\n",
    "word2vec_svm = SVC(random_state=seed)\n",
    "\n",
    "# Train and evaluate\n",
    "word2vec_svm_fitted = train_and_eval_classifier(model=word2vec_svm, X_train=word2vec_embeddings_train, y_train=labels_train, X_test=word2vec_embeddings_test, y_test=labels_test, filename=\"word2vec_svm\")"
   ]
  },
  {
   "cell_type": "markdown",
   "id": "edffcda1",
   "metadata": {},
   "source": [
    "### XGBoost"
   ]
  },
  {
   "cell_type": "code",
   "execution_count": 12,
   "id": "0353b384",
   "metadata": {},
   "outputs": [
    {
     "name": "stdout",
     "output_type": "stream",
     "text": [
      "Accuracy: 74.8%\n",
      "Precision: 78.1%\n",
      "Recall: 69.2%\n",
      "F1 score: 73.4%\n",
      "Confusion Matrix:\n"
     ]
    },
    {
     "data": {
      "image/png": "[encoded data removed]",
      "text/plain": [
       "<Figure size 800x600 with 2 Axes>"
      ]
     },
     "metadata": {},
     "output_type": "display_data"
    }
   ],
   "source": [
    "# Initialise model\n",
    "word2vec_xgb = XGBClassifier(random_state=seed)\n",
    "\n",
    "# Train and evaluate\n",
    "word2vec_xgb_fitted = train_and_eval_classifier(model=word2vec_xgb, X_train=word2vec_embeddings_train, y_train=labels_train, X_test=word2vec_embeddings_test, y_test=labels_test, filename=\"word2vec_xgb\")"
   ]
  },
  {
   "cell_type": "markdown",
   "id": "efb5be52",
   "metadata": {},
   "source": [
    "## SPPMI-SVD"
   ]
  },
  {
   "cell_type": "markdown",
   "id": "b97c505c",
   "metadata": {},
   "source": [
    "### Get Embeddings"
   ]
  },
  {
   "cell_type": "code",
   "execution_count": 13,
   "id": "90863935",
   "metadata": {},
   "outputs": [],
   "source": [
    "# Get features\n",
    "sppmi_svd_embeddings_train = make_embeddings(words_to_embeddings_mapping=sppmi_svd_words_to_embeddings, reviews=reviews_train)\n",
    "sppmi_svd_embeddings_test = make_embeddings(words_to_embeddings_mapping=sppmi_svd_words_to_embeddings, reviews=reviews_test)"
   ]
  },
  {
   "cell_type": "markdown",
   "id": "cd20a07c",
   "metadata": {},
   "source": [
    "### Random Forest"
   ]
  },
  {
   "cell_type": "code",
   "execution_count": 14,
   "id": "2257fbc9",
   "metadata": {},
   "outputs": [
    {
     "name": "stdout",
     "output_type": "stream",
     "text": [
      "Accuracy: 72.0%\n",
      "Precision: 75.7%\n",
      "Recall: 65.2%\n",
      "F1 score: 70.1%\n",
      "Confusion Matrix:\n"
     ]
    },
    {
     "data": {
      "image/png": "[encoded data removed]",
      "text/plain": [
       "<Figure size 800x600 with 2 Axes>"
      ]
     },
     "metadata": {},
     "output_type": "display_data"
    }
   ],
   "source": [
    "# Initialise model\n",
    "sppmi_svd_rf = RandomForestClassifier(random_state=seed)\n",
    "\n",
    "# Train and evaluate\n",
    "sppmi_svd_rf_fitted = train_and_eval_classifier(model=sppmi_svd_rf, X_train=sppmi_svd_embeddings_train, y_train=labels_train, X_test=sppmi_svd_embeddings_test, y_test=labels_test, filename=\"sppmi_svd_rf\")"
   ]
  },
  {
   "cell_type": "markdown",
   "id": "ad2560d6",
   "metadata": {},
   "source": [
    "### Support Vector Machine"
   ]
  },
  {
   "cell_type": "code",
   "execution_count": 15,
   "id": "c101b8be",
   "metadata": {},
   "outputs": [
    {
     "name": "stdout",
     "output_type": "stream",
     "text": [
      "Accuracy: 76.0%\n",
      "Precision: 78.7%\n",
      "Recall: 71.6%\n",
      "F1 score: 75.0%\n",
      "Confusion Matrix:\n"
     ]
    },
    {
     "data": {
      "image/png": "[encoded data removed]",
      "text/plain": [
       "<Figure size 800x600 with 2 Axes>"
      ]
     },
     "metadata": {},
     "output_type": "display_data"
    }
   ],
   "source": [
    "# Initialise model\n",
    "sppmi_svd_svm = SVC(random_state=seed)\n",
    "\n",
    "# Train and evaluate\n",
    "sppmi_svd_svm_fitted = train_and_eval_classifier(model=sppmi_svd_svm, X_train=sppmi_svd_embeddings_train, y_train=labels_train, X_test=sppmi_svd_embeddings_test, y_test=labels_test, filename=\"sppmi_svd_svm\")"
   ]
  },
  {
   "cell_type": "markdown",
   "id": "774a9e4d",
   "metadata": {},
   "source": [
    "### XGBoost"
   ]
  },
  {
   "cell_type": "code",
   "execution_count": 16,
   "id": "0e4dd019",
   "metadata": {},
   "outputs": [
    {
     "name": "stdout",
     "output_type": "stream",
     "text": [
      "Accuracy: 74.8%\n",
      "Precision: 75.8%\n",
      "Recall: 73.1%\n",
      "F1 score: 74.4%\n",
      "Confusion Matrix:\n"
     ]
    },
    {
     "data": {
      "image/png": "[encoded data removed]",
      "text/plain": [
       "<Figure size 800x600 with 2 Axes>"
      ]
     },
     "metadata": {},
     "output_type": "display_data"
    }
   ],
   "source": [
    "# Initialise model\n",
    "sppmi_svd_xgb = XGBClassifier(random_state=seed)\n",
    "\n",
    "# Train and evaluate\n",
    "sppmi_svd_xgb_fitted = train_and_eval_classifier(model=sppmi_svd_xgb, X_train=sppmi_svd_embeddings_train, y_train=labels_train, X_test=sppmi_svd_embeddings_test, y_test=labels_test, filename=\"sppmi_svd_xgb\")"
   ]
  },
  {
   "cell_type": "markdown",
   "id": "349533ec",
   "metadata": {},
   "source": [
    "## GloVe"
   ]
  },
  {
   "cell_type": "markdown",
   "id": "22b919a6",
   "metadata": {},
   "source": [
    "### Get Embeddings"
   ]
  },
  {
   "cell_type": "code",
   "execution_count": 17,
   "id": "10b2d1de",
   "metadata": {},
   "outputs": [],
   "source": [
    "# Get features\n",
    "glove_embeddings_train = make_embeddings(words_to_embeddings_mapping=glove_words_to_embeddings, reviews=reviews_train)\n",
    "glove_embeddings_test = make_embeddings(words_to_embeddings_mapping=glove_words_to_embeddings, reviews=reviews_test)"
   ]
  },
  {
   "cell_type": "markdown",
   "id": "e80d2b84",
   "metadata": {},
   "source": [
    "### Random Forest"
   ]
  },
  {
   "cell_type": "code",
   "execution_count": 18,
   "id": "ed876f74",
   "metadata": {},
   "outputs": [
    {
     "name": "stdout",
     "output_type": "stream",
     "text": [
      "Accuracy: 66.0%\n",
      "Precision: 67.6%\n",
      "Recall: 62.2%\n",
      "F1 score: 64.8%\n",
      "Confusion Matrix:\n"
     ]
    },
    {
     "data": {
      "image/png": "[encoded data removed]",
      "text/plain": [
       "<Figure size 800x600 with 2 Axes>"
      ]
     },
     "metadata": {},
     "output_type": "display_data"
    }
   ],
   "source": [
    "# Initialise model\n",
    "glove_rf = RandomForestClassifier(random_state=seed)\n",
    "\n",
    "# Train and evaluate\n",
    "glove_rf_fitted = train_and_eval_classifier(model=glove_rf, X_train=glove_embeddings_train, y_train=labels_train, X_test=glove_embeddings_test, y_test=labels_test, filename=\"glove_rf\")"
   ]
  },
  {
   "cell_type": "markdown",
   "id": "b43dc5f4",
   "metadata": {},
   "source": [
    "### Support Vector Machine"
   ]
  },
  {
   "cell_type": "code",
   "execution_count": 19,
   "id": "fd960d90",
   "metadata": {},
   "outputs": [
    {
     "name": "stdout",
     "output_type": "stream",
     "text": [
      "Accuracy: 70.0%\n",
      "Precision: 72.1%\n",
      "Recall: 65.7%\n",
      "F1 score: 68.8%\n",
      "Confusion Matrix:\n"
     ]
    },
    {
     "data": {
      "image/png": "[encoded data removed]",
      "text/plain": [
       "<Figure size 800x600 with 2 Axes>"
      ]
     },
     "metadata": {},
     "output_type": "display_data"
    }
   ],
   "source": [
    "# Initialise model\n",
    "glove_svm = SVC(random_state=seed)\n",
    "\n",
    "# Train and evaluate\n",
    "glove_svm_fitted = train_and_eval_classifier(model=glove_svm, X_train=glove_embeddings_train, y_train=labels_train, X_test=glove_embeddings_test, y_test=labels_test, filename=\"glove_svm\")"
   ]
  },
  {
   "cell_type": "markdown",
   "id": "b3798906",
   "metadata": {},
   "source": [
    "### XGBoost"
   ]
  },
  {
   "cell_type": "code",
   "execution_count": 20,
   "id": "593eda0a",
   "metadata": {},
   "outputs": [
    {
     "name": "stdout",
     "output_type": "stream",
     "text": [
      "Accuracy: 65.5%\n",
      "Precision: 67.2%\n",
      "Recall: 61.2%\n",
      "F1 score: 64.1%\n",
      "Confusion Matrix:\n"
     ]
    },
    {
     "data": {
      "image/png": "[encoded data removed]",
      "text/plain": [
       "<Figure size 800x600 with 2 Axes>"
      ]
     },
     "metadata": {},
     "output_type": "display_data"
    }
   ],
   "source": [
    "# Initialise model\n",
    "glove_xgb = XGBClassifier(random_state=seed)\n",
    "\n",
    "# Train and evaluate\n",
    "glove_xgb_fitted = train_and_eval_classifier(model=glove_xgb, X_train=glove_embeddings_train, y_train=labels_train, X_test=glove_embeddings_test, y_test=labels_test, filename=\"glove_xgb\")"
   ]
  }
 ],
 "metadata": {
  "kernelspec": {
   "display_name": "Python 3 (ipykernel)",
   "language": "python",
   "name": "python3"
  },
  "language_info": {
   "codemirror_mode": {
    "name": "ipython",
    "version": 3
   },
   "file_extension": ".py",
   "mimetype": "text/x-python",
   "name": "python",
   "nbconvert_exporter": "python",
   "pygments_lexer": "ipython3",
   "version": "3.12.7"
  }
 },
 "nbformat": 4,
 "nbformat_minor": 5
}
